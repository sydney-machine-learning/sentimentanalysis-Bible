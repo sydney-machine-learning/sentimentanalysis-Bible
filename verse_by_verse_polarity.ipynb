{
  "nbformat": 4,
  "nbformat_minor": 0,
  "metadata": {
    "colab": {
      "provenance": [],
      "collapsed_sections": []
    },
    "kernelspec": {
      "name": "python3",
      "display_name": "Python 3"
    },
    "language_info": {
      "name": "python"
    },
    "widgets": {
      "application/vnd.jupyter.widget-state+json": {
        "521456ee18544ebab15d88a77cefd4c6": {
          "model_module": "@jupyter-widgets/controls",
          "model_name": "HBoxModel",
          "model_module_version": "1.5.0",
          "state": {
            "_dom_classes": [],
            "_model_module": "@jupyter-widgets/controls",
            "_model_module_version": "1.5.0",
            "_model_name": "HBoxModel",
            "_view_count": null,
            "_view_module": "@jupyter-widgets/controls",
            "_view_module_version": "1.5.0",
            "_view_name": "HBoxView",
            "box_style": "",
            "children": [
              "IPY_MODEL_b74219b8c48345a0b62ef9fdeb62b9aa",
              "IPY_MODEL_e8d18cac2f2047709ebd6eb4feb5e207",
              "IPY_MODEL_0654d8f2475041c2a974f3afce285e41"
            ],
            "layout": "IPY_MODEL_637f4c70f70446c3a61367a6e03cf436"
          }
        },
        "b74219b8c48345a0b62ef9fdeb62b9aa": {
          "model_module": "@jupyter-widgets/controls",
          "model_name": "HTMLModel",
          "model_module_version": "1.5.0",
          "state": {
            "_dom_classes": [],
            "_model_module": "@jupyter-widgets/controls",
            "_model_module_version": "1.5.0",
            "_model_name": "HTMLModel",
            "_view_count": null,
            "_view_module": "@jupyter-widgets/controls",
            "_view_module_version": "1.5.0",
            "_view_name": "HTMLView",
            "description": "",
            "description_tooltip": null,
            "layout": "IPY_MODEL_4d8a00a499a748c0aec1cfa5cd49214c",
            "placeholder": "​",
            "style": "IPY_MODEL_4219a793356f4319b4f8e3b7201a9c67",
            "value": "Downloading: 100%"
          }
        },
        "e8d18cac2f2047709ebd6eb4feb5e207": {
          "model_module": "@jupyter-widgets/controls",
          "model_name": "FloatProgressModel",
          "model_module_version": "1.5.0",
          "state": {
            "_dom_classes": [],
            "_model_module": "@jupyter-widgets/controls",
            "_model_module_version": "1.5.0",
            "_model_name": "FloatProgressModel",
            "_view_count": null,
            "_view_module": "@jupyter-widgets/controls",
            "_view_module_version": "1.5.0",
            "_view_name": "ProgressView",
            "bar_style": "success",
            "description": "",
            "description_tooltip": null,
            "layout": "IPY_MODEL_93e160f35ea946cb90fe24f76bd64b76",
            "max": 570,
            "min": 0,
            "orientation": "horizontal",
            "style": "IPY_MODEL_4c7b997a37bc47b58331061d83c12b6e",
            "value": 570
          }
        },
        "0654d8f2475041c2a974f3afce285e41": {
          "model_module": "@jupyter-widgets/controls",
          "model_name": "HTMLModel",
          "model_module_version": "1.5.0",
          "state": {
            "_dom_classes": [],
            "_model_module": "@jupyter-widgets/controls",
            "_model_module_version": "1.5.0",
            "_model_name": "HTMLModel",
            "_view_count": null,
            "_view_module": "@jupyter-widgets/controls",
            "_view_module_version": "1.5.0",
            "_view_name": "HTMLView",
            "description": "",
            "description_tooltip": null,
            "layout": "IPY_MODEL_0a03ce09982f4b82b7e276b0cb6bf124",
            "placeholder": "​",
            "style": "IPY_MODEL_617e524e925b4afd8c3e01982a16b9f0",
            "value": " 570/570 [00:00&lt;00:00, 10.2kB/s]"
          }
        },
        "637f4c70f70446c3a61367a6e03cf436": {
          "model_module": "@jupyter-widgets/base",
          "model_name": "LayoutModel",
          "model_module_version": "1.2.0",
          "state": {
            "_model_module": "@jupyter-widgets/base",
            "_model_module_version": "1.2.0",
            "_model_name": "LayoutModel",
            "_view_count": null,
            "_view_module": "@jupyter-widgets/base",
            "_view_module_version": "1.2.0",
            "_view_name": "LayoutView",
            "align_content": null,
            "align_items": null,
            "align_self": null,
            "border": null,
            "bottom": null,
            "display": null,
            "flex": null,
            "flex_flow": null,
            "grid_area": null,
            "grid_auto_columns": null,
            "grid_auto_flow": null,
            "grid_auto_rows": null,
            "grid_column": null,
            "grid_gap": null,
            "grid_row": null,
            "grid_template_areas": null,
            "grid_template_columns": null,
            "grid_template_rows": null,
            "height": null,
            "justify_content": null,
            "justify_items": null,
            "left": null,
            "margin": null,
            "max_height": null,
            "max_width": null,
            "min_height": null,
            "min_width": null,
            "object_fit": null,
            "object_position": null,
            "order": null,
            "overflow": null,
            "overflow_x": null,
            "overflow_y": null,
            "padding": null,
            "right": null,
            "top": null,
            "visibility": null,
            "width": null
          }
        },
        "4d8a00a499a748c0aec1cfa5cd49214c": {
          "model_module": "@jupyter-widgets/base",
          "model_name": "LayoutModel",
          "model_module_version": "1.2.0",
          "state": {
            "_model_module": "@jupyter-widgets/base",
            "_model_module_version": "1.2.0",
            "_model_name": "LayoutModel",
            "_view_count": null,
            "_view_module": "@jupyter-widgets/base",
            "_view_module_version": "1.2.0",
            "_view_name": "LayoutView",
            "align_content": null,
            "align_items": null,
            "align_self": null,
            "border": null,
            "bottom": null,
            "display": null,
            "flex": null,
            "flex_flow": null,
            "grid_area": null,
            "grid_auto_columns": null,
            "grid_auto_flow": null,
            "grid_auto_rows": null,
            "grid_column": null,
            "grid_gap": null,
            "grid_row": null,
            "grid_template_areas": null,
            "grid_template_columns": null,
            "grid_template_rows": null,
            "height": null,
            "justify_content": null,
            "justify_items": null,
            "left": null,
            "margin": null,
            "max_height": null,
            "max_width": null,
            "min_height": null,
            "min_width": null,
            "object_fit": null,
            "object_position": null,
            "order": null,
            "overflow": null,
            "overflow_x": null,
            "overflow_y": null,
            "padding": null,
            "right": null,
            "top": null,
            "visibility": null,
            "width": null
          }
        },
        "4219a793356f4319b4f8e3b7201a9c67": {
          "model_module": "@jupyter-widgets/controls",
          "model_name": "DescriptionStyleModel",
          "model_module_version": "1.5.0",
          "state": {
            "_model_module": "@jupyter-widgets/controls",
            "_model_module_version": "1.5.0",
            "_model_name": "DescriptionStyleModel",
            "_view_count": null,
            "_view_module": "@jupyter-widgets/base",
            "_view_module_version": "1.2.0",
            "_view_name": "StyleView",
            "description_width": ""
          }
        },
        "93e160f35ea946cb90fe24f76bd64b76": {
          "model_module": "@jupyter-widgets/base",
          "model_name": "LayoutModel",
          "model_module_version": "1.2.0",
          "state": {
            "_model_module": "@jupyter-widgets/base",
            "_model_module_version": "1.2.0",
            "_model_name": "LayoutModel",
            "_view_count": null,
            "_view_module": "@jupyter-widgets/base",
            "_view_module_version": "1.2.0",
            "_view_name": "LayoutView",
            "align_content": null,
            "align_items": null,
            "align_self": null,
            "border": null,
            "bottom": null,
            "display": null,
            "flex": null,
            "flex_flow": null,
            "grid_area": null,
            "grid_auto_columns": null,
            "grid_auto_flow": null,
            "grid_auto_rows": null,
            "grid_column": null,
            "grid_gap": null,
            "grid_row": null,
            "grid_template_areas": null,
            "grid_template_columns": null,
            "grid_template_rows": null,
            "height": null,
            "justify_content": null,
            "justify_items": null,
            "left": null,
            "margin": null,
            "max_height": null,
            "max_width": null,
            "min_height": null,
            "min_width": null,
            "object_fit": null,
            "object_position": null,
            "order": null,
            "overflow": null,
            "overflow_x": null,
            "overflow_y": null,
            "padding": null,
            "right": null,
            "top": null,
            "visibility": null,
            "width": null
          }
        },
        "4c7b997a37bc47b58331061d83c12b6e": {
          "model_module": "@jupyter-widgets/controls",
          "model_name": "ProgressStyleModel",
          "model_module_version": "1.5.0",
          "state": {
            "_model_module": "@jupyter-widgets/controls",
            "_model_module_version": "1.5.0",
            "_model_name": "ProgressStyleModel",
            "_view_count": null,
            "_view_module": "@jupyter-widgets/base",
            "_view_module_version": "1.2.0",
            "_view_name": "StyleView",
            "bar_color": null,
            "description_width": ""
          }
        },
        "0a03ce09982f4b82b7e276b0cb6bf124": {
          "model_module": "@jupyter-widgets/base",
          "model_name": "LayoutModel",
          "model_module_version": "1.2.0",
          "state": {
            "_model_module": "@jupyter-widgets/base",
            "_model_module_version": "1.2.0",
            "_model_name": "LayoutModel",
            "_view_count": null,
            "_view_module": "@jupyter-widgets/base",
            "_view_module_version": "1.2.0",
            "_view_name": "LayoutView",
            "align_content": null,
            "align_items": null,
            "align_self": null,
            "border": null,
            "bottom": null,
            "display": null,
            "flex": null,
            "flex_flow": null,
            "grid_area": null,
            "grid_auto_columns": null,
            "grid_auto_flow": null,
            "grid_auto_rows": null,
            "grid_column": null,
            "grid_gap": null,
            "grid_row": null,
            "grid_template_areas": null,
            "grid_template_columns": null,
            "grid_template_rows": null,
            "height": null,
            "justify_content": null,
            "justify_items": null,
            "left": null,
            "margin": null,
            "max_height": null,
            "max_width": null,
            "min_height": null,
            "min_width": null,
            "object_fit": null,
            "object_position": null,
            "order": null,
            "overflow": null,
            "overflow_x": null,
            "overflow_y": null,
            "padding": null,
            "right": null,
            "top": null,
            "visibility": null,
            "width": null
          }
        },
        "617e524e925b4afd8c3e01982a16b9f0": {
          "model_module": "@jupyter-widgets/controls",
          "model_name": "DescriptionStyleModel",
          "model_module_version": "1.5.0",
          "state": {
            "_model_module": "@jupyter-widgets/controls",
            "_model_module_version": "1.5.0",
            "_model_name": "DescriptionStyleModel",
            "_view_count": null,
            "_view_module": "@jupyter-widgets/base",
            "_view_module_version": "1.2.0",
            "_view_name": "StyleView",
            "description_width": ""
          }
        },
        "e4d6a4d4e792464c9ef481db173ccdd2": {
          "model_module": "@jupyter-widgets/controls",
          "model_name": "HBoxModel",
          "model_module_version": "1.5.0",
          "state": {
            "_dom_classes": [],
            "_model_module": "@jupyter-widgets/controls",
            "_model_module_version": "1.5.0",
            "_model_name": "HBoxModel",
            "_view_count": null,
            "_view_module": "@jupyter-widgets/controls",
            "_view_module_version": "1.5.0",
            "_view_name": "HBoxView",
            "box_style": "",
            "children": [
              "IPY_MODEL_5e2c183419e44aa383c275bed87c1891",
              "IPY_MODEL_7f72ed7178e84047b7b1f45a6c6ff0c6",
              "IPY_MODEL_cefbb241d16c442082801a12753c848a"
            ],
            "layout": "IPY_MODEL_2349200cb5df4eae86507ae1d71c810d"
          }
        },
        "5e2c183419e44aa383c275bed87c1891": {
          "model_module": "@jupyter-widgets/controls",
          "model_name": "HTMLModel",
          "model_module_version": "1.5.0",
          "state": {
            "_dom_classes": [],
            "_model_module": "@jupyter-widgets/controls",
            "_model_module_version": "1.5.0",
            "_model_name": "HTMLModel",
            "_view_count": null,
            "_view_module": "@jupyter-widgets/controls",
            "_view_module_version": "1.5.0",
            "_view_name": "HTMLView",
            "description": "",
            "description_tooltip": null,
            "layout": "IPY_MODEL_6ce8d19f386b48378567062d1a4fbde0",
            "placeholder": "​",
            "style": "IPY_MODEL_99699b1afae64d849e12101dc7787a45",
            "value": "Downloading: 100%"
          }
        },
        "7f72ed7178e84047b7b1f45a6c6ff0c6": {
          "model_module": "@jupyter-widgets/controls",
          "model_name": "FloatProgressModel",
          "model_module_version": "1.5.0",
          "state": {
            "_dom_classes": [],
            "_model_module": "@jupyter-widgets/controls",
            "_model_module_version": "1.5.0",
            "_model_name": "FloatProgressModel",
            "_view_count": null,
            "_view_module": "@jupyter-widgets/controls",
            "_view_module_version": "1.5.0",
            "_view_name": "ProgressView",
            "bar_style": "success",
            "description": "",
            "description_tooltip": null,
            "layout": "IPY_MODEL_c1f16e438bf14a29b08b372b1fa4e15a",
            "max": 440473133,
            "min": 0,
            "orientation": "horizontal",
            "style": "IPY_MODEL_f126a7695f304d91bbf2d87292559687",
            "value": 440473133
          }
        },
        "cefbb241d16c442082801a12753c848a": {
          "model_module": "@jupyter-widgets/controls",
          "model_name": "HTMLModel",
          "model_module_version": "1.5.0",
          "state": {
            "_dom_classes": [],
            "_model_module": "@jupyter-widgets/controls",
            "_model_module_version": "1.5.0",
            "_model_name": "HTMLModel",
            "_view_count": null,
            "_view_module": "@jupyter-widgets/controls",
            "_view_module_version": "1.5.0",
            "_view_name": "HTMLView",
            "description": "",
            "description_tooltip": null,
            "layout": "IPY_MODEL_df3aee336f484bd2ae3f44f4e3cd5821",
            "placeholder": "​",
            "style": "IPY_MODEL_868b5e60d5954f67bfa89df0bcffac47",
            "value": " 440M/440M [00:26&lt;00:00, 12.5MB/s]"
          }
        },
        "2349200cb5df4eae86507ae1d71c810d": {
          "model_module": "@jupyter-widgets/base",
          "model_name": "LayoutModel",
          "model_module_version": "1.2.0",
          "state": {
            "_model_module": "@jupyter-widgets/base",
            "_model_module_version": "1.2.0",
            "_model_name": "LayoutModel",
            "_view_count": null,
            "_view_module": "@jupyter-widgets/base",
            "_view_module_version": "1.2.0",
            "_view_name": "LayoutView",
            "align_content": null,
            "align_items": null,
            "align_self": null,
            "border": null,
            "bottom": null,
            "display": null,
            "flex": null,
            "flex_flow": null,
            "grid_area": null,
            "grid_auto_columns": null,
            "grid_auto_flow": null,
            "grid_auto_rows": null,
            "grid_column": null,
            "grid_gap": null,
            "grid_row": null,
            "grid_template_areas": null,
            "grid_template_columns": null,
            "grid_template_rows": null,
            "height": null,
            "justify_content": null,
            "justify_items": null,
            "left": null,
            "margin": null,
            "max_height": null,
            "max_width": null,
            "min_height": null,
            "min_width": null,
            "object_fit": null,
            "object_position": null,
            "order": null,
            "overflow": null,
            "overflow_x": null,
            "overflow_y": null,
            "padding": null,
            "right": null,
            "top": null,
            "visibility": null,
            "width": null
          }
        },
        "6ce8d19f386b48378567062d1a4fbde0": {
          "model_module": "@jupyter-widgets/base",
          "model_name": "LayoutModel",
          "model_module_version": "1.2.0",
          "state": {
            "_model_module": "@jupyter-widgets/base",
            "_model_module_version": "1.2.0",
            "_model_name": "LayoutModel",
            "_view_count": null,
            "_view_module": "@jupyter-widgets/base",
            "_view_module_version": "1.2.0",
            "_view_name": "LayoutView",
            "align_content": null,
            "align_items": null,
            "align_self": null,
            "border": null,
            "bottom": null,
            "display": null,
            "flex": null,
            "flex_flow": null,
            "grid_area": null,
            "grid_auto_columns": null,
            "grid_auto_flow": null,
            "grid_auto_rows": null,
            "grid_column": null,
            "grid_gap": null,
            "grid_row": null,
            "grid_template_areas": null,
            "grid_template_columns": null,
            "grid_template_rows": null,
            "height": null,
            "justify_content": null,
            "justify_items": null,
            "left": null,
            "margin": null,
            "max_height": null,
            "max_width": null,
            "min_height": null,
            "min_width": null,
            "object_fit": null,
            "object_position": null,
            "order": null,
            "overflow": null,
            "overflow_x": null,
            "overflow_y": null,
            "padding": null,
            "right": null,
            "top": null,
            "visibility": null,
            "width": null
          }
        },
        "99699b1afae64d849e12101dc7787a45": {
          "model_module": "@jupyter-widgets/controls",
          "model_name": "DescriptionStyleModel",
          "model_module_version": "1.5.0",
          "state": {
            "_model_module": "@jupyter-widgets/controls",
            "_model_module_version": "1.5.0",
            "_model_name": "DescriptionStyleModel",
            "_view_count": null,
            "_view_module": "@jupyter-widgets/base",
            "_view_module_version": "1.2.0",
            "_view_name": "StyleView",
            "description_width": ""
          }
        },
        "c1f16e438bf14a29b08b372b1fa4e15a": {
          "model_module": "@jupyter-widgets/base",
          "model_name": "LayoutModel",
          "model_module_version": "1.2.0",
          "state": {
            "_model_module": "@jupyter-widgets/base",
            "_model_module_version": "1.2.0",
            "_model_name": "LayoutModel",
            "_view_count": null,
            "_view_module": "@jupyter-widgets/base",
            "_view_module_version": "1.2.0",
            "_view_name": "LayoutView",
            "align_content": null,
            "align_items": null,
            "align_self": null,
            "border": null,
            "bottom": null,
            "display": null,
            "flex": null,
            "flex_flow": null,
            "grid_area": null,
            "grid_auto_columns": null,
            "grid_auto_flow": null,
            "grid_auto_rows": null,
            "grid_column": null,
            "grid_gap": null,
            "grid_row": null,
            "grid_template_areas": null,
            "grid_template_columns": null,
            "grid_template_rows": null,
            "height": null,
            "justify_content": null,
            "justify_items": null,
            "left": null,
            "margin": null,
            "max_height": null,
            "max_width": null,
            "min_height": null,
            "min_width": null,
            "object_fit": null,
            "object_position": null,
            "order": null,
            "overflow": null,
            "overflow_x": null,
            "overflow_y": null,
            "padding": null,
            "right": null,
            "top": null,
            "visibility": null,
            "width": null
          }
        },
        "f126a7695f304d91bbf2d87292559687": {
          "model_module": "@jupyter-widgets/controls",
          "model_name": "ProgressStyleModel",
          "model_module_version": "1.5.0",
          "state": {
            "_model_module": "@jupyter-widgets/controls",
            "_model_module_version": "1.5.0",
            "_model_name": "ProgressStyleModel",
            "_view_count": null,
            "_view_module": "@jupyter-widgets/base",
            "_view_module_version": "1.2.0",
            "_view_name": "StyleView",
            "bar_color": null,
            "description_width": ""
          }
        },
        "df3aee336f484bd2ae3f44f4e3cd5821": {
          "model_module": "@jupyter-widgets/base",
          "model_name": "LayoutModel",
          "model_module_version": "1.2.0",
          "state": {
            "_model_module": "@jupyter-widgets/base",
            "_model_module_version": "1.2.0",
            "_model_name": "LayoutModel",
            "_view_count": null,
            "_view_module": "@jupyter-widgets/base",
            "_view_module_version": "1.2.0",
            "_view_name": "LayoutView",
            "align_content": null,
            "align_items": null,
            "align_self": null,
            "border": null,
            "bottom": null,
            "display": null,
            "flex": null,
            "flex_flow": null,
            "grid_area": null,
            "grid_auto_columns": null,
            "grid_auto_flow": null,
            "grid_auto_rows": null,
            "grid_column": null,
            "grid_gap": null,
            "grid_row": null,
            "grid_template_areas": null,
            "grid_template_columns": null,
            "grid_template_rows": null,
            "height": null,
            "justify_content": null,
            "justify_items": null,
            "left": null,
            "margin": null,
            "max_height": null,
            "max_width": null,
            "min_height": null,
            "min_width": null,
            "object_fit": null,
            "object_position": null,
            "order": null,
            "overflow": null,
            "overflow_x": null,
            "overflow_y": null,
            "padding": null,
            "right": null,
            "top": null,
            "visibility": null,
            "width": null
          }
        },
        "868b5e60d5954f67bfa89df0bcffac47": {
          "model_module": "@jupyter-widgets/controls",
          "model_name": "DescriptionStyleModel",
          "model_module_version": "1.5.0",
          "state": {
            "_model_module": "@jupyter-widgets/controls",
            "_model_module_version": "1.5.0",
            "_model_name": "DescriptionStyleModel",
            "_view_count": null,
            "_view_module": "@jupyter-widgets/base",
            "_view_module_version": "1.2.0",
            "_view_name": "StyleView",
            "description_width": ""
          }
        }
      }
    }
  },
  "cells": [
    {
      "cell_type": "code",
      "execution_count": 1,
      "metadata": {
        "colab": {
          "base_uri": "https://localhost:8080/"
        },
        "id": "epaLtDMsmZA_",
        "outputId": "56ccd917-f6ed-4930-f6a6-c26be7ce7a61"
      },
      "outputs": [
        {
          "output_type": "stream",
          "name": "stdout",
          "text": [
            "Mounted at /content/drive\n",
            "\n"
          ]
        }
      ],
      "source": [
        "from google.colab import drive\n",
        "drive.mount(\"/content/drive\")\n",
        "\n",
        "#to confirm gpu access\n",
        "import tensorflow as tf\n",
        "device_name=tf.test.gpu_device_name()\n",
        "print(device_name)"
      ]
    },
    {
      "cell_type": "code",
      "source": [
        "!git clone \"https://github.com/sydney-machine-learning/sentimentanalysis-Bible.git\""
      ],
      "metadata": {
        "id": "bWmRZk1wmhD6",
        "colab": {
          "base_uri": "https://localhost:8080/"
        },
        "outputId": "4f75f3e1-7c06-488b-a8b4-ea6acd9ec47c"
      },
      "execution_count": 2,
      "outputs": [
        {
          "output_type": "stream",
          "name": "stdout",
          "text": [
            "Cloning into 'sentimentanalysis-Bible'...\n",
            "remote: Enumerating objects: 90, done.\u001b[K\n",
            "remote: Counting objects: 100% (90/90), done.\u001b[K\n",
            "remote: Compressing objects: 100% (75/75), done.\u001b[K\n",
            "remote: Total 90 (delta 19), reused 60 (delta 12), pack-reused 0\u001b[K\n",
            "Unpacking objects: 100% (90/90), done.\n"
          ]
        }
      ]
    },
    {
      "cell_type": "code",
      "source": [
        "!pip3 install afinn\n",
        "from afinn import Afinn"
      ],
      "metadata": {
        "id": "LCIaNDvymn_9",
        "colab": {
          "base_uri": "https://localhost:8080/"
        },
        "outputId": "d8ed632d-f53d-4d80-e17c-45b0834136fd"
      },
      "execution_count": 3,
      "outputs": [
        {
          "output_type": "stream",
          "name": "stdout",
          "text": [
            "Looking in indexes: https://pypi.org/simple, https://us-python.pkg.dev/colab-wheels/public/simple/\n",
            "Collecting afinn\n",
            "  Downloading afinn-0.1.tar.gz (52 kB)\n",
            "\u001b[K     |████████████████████████████████| 52 kB 1.1 MB/s \n",
            "\u001b[?25hBuilding wheels for collected packages: afinn\n",
            "  Building wheel for afinn (setup.py) ... \u001b[?25l\u001b[?25hdone\n",
            "  Created wheel for afinn: filename=afinn-0.1-py3-none-any.whl size=53447 sha256=9d8cd6e2af95de662bebd2de16c0433c89915dc983d8d9a1de372f14ffe73884\n",
            "  Stored in directory: /root/.cache/pip/wheels/9d/16/3a/9f0953027434eab5dadf3f33ab3298fa95afa8292fcf7aba75\n",
            "Successfully built afinn\n",
            "Installing collected packages: afinn\n",
            "Successfully installed afinn-0.1\n"
          ]
        }
      ]
    },
    {
      "cell_type": "code",
      "source": [
        "import os"
      ],
      "metadata": {
        "id": "sH47rLXXnMVd"
      },
      "execution_count": 4,
      "outputs": []
    },
    {
      "cell_type": "code",
      "source": [
        "!ls"
      ],
      "metadata": {
        "colab": {
          "base_uri": "https://localhost:8080/"
        },
        "id": "6PyEYCbXfYe3",
        "outputId": "27a4edad-8556-4af8-fba4-9e30d9306e30"
      },
      "execution_count": 5,
      "outputs": [
        {
          "output_type": "stream",
          "name": "stdout",
          "text": [
            "drive  sample_data  sentimentanalysis-Bible\n"
          ]
        }
      ]
    },
    {
      "cell_type": "code",
      "source": [
        "os.chdir(\"drive/MyDrive/sentimentanalysis-Bible-main\")"
      ],
      "metadata": {
        "id": "kLKcjT8snOoU"
      },
      "execution_count": 6,
      "outputs": []
    },
    {
      "cell_type": "code",
      "source": [
        "afinn = Afinn(language='en')"
      ],
      "metadata": {
        "id": "dlnpFaF4nAvf"
      },
      "execution_count": 7,
      "outputs": []
    },
    {
      "cell_type": "code",
      "source": [
        "pos_index = []\n",
        "neg_index = []\n",
        "neutral_index = []\n",
        "most_pos = []"
      ],
      "metadata": {
        "id": "ARdnqtRpnBLb"
      },
      "execution_count": 8,
      "outputs": []
    },
    {
      "cell_type": "code",
      "source": [
        "chapters = [\"Chapter-5_cleaned\", \"Chapter-6_cleaned\", \"Chapter-7_cleaned\"]\n",
        "for i in range(3):\n",
        "  chapter = open('New Revised Standard Version/'+ chapters[i] + '.txt')\n",
        "  data = chapter.read()\n",
        "  sentences = data.split('.')\n",
        "  print(data)\n",
        "  pos = 0\n",
        "  neg = 0\n",
        "  neutral = 0\n",
        "\n",
        "  for sentence in sentences:\n",
        "    score = int(afinn.score(sentence))\n",
        "\n",
        "    if score>0:\n",
        "      pos+=1\n",
        "    elif score<0:\n",
        "      neg+=1\n",
        "    else:\n",
        "      neutral+=1\n",
        "  scored_sentences = ((afinn.score(sent), sent) for sent in sentences)\n",
        "  sorted_sentences = sorted(scored_sentences)\n",
        "  n = len(sentences)\n",
        "  pos_index.append(pos/n)\n",
        "  neg_index.append(neg/n)\n",
        "  neutral_index.append(neutral/n)\n",
        "  most_pos.append(sorted_sentences)"
      ],
      "metadata": {
        "id": "IVavvHvAnEDz",
        "colab": {
          "base_uri": "https://localhost:8080/"
        },
        "outputId": "89a03adc-feb1-46ec-8246-cd42c06f3852"
      },
      "execution_count": 9,
      "outputs": [
        {
          "output_type": "stream",
          "name": "stdout",
          "text": [
            "5 When Jesus saw the crowds, he went up the mountain; and after he sat down, his disciples came to him. 2 Then he began to speak, and taught them, saying:\n",
            "\n",
            "3 ‘Blessed are the poor in spirit, for theirs is the kingdom of heaven.\n",
            "\n",
            "4 ‘Blessed are those who mourn, for they will be comforted.\n",
            "\n",
            "5 ‘Blessed are the meek, for they will inherit the earth.\n",
            "\n",
            "6 ‘Blessed are those who hunger and thirst for righteousness, for they will be filled.\n",
            "\n",
            "7 ‘Blessed are the merciful, for they will receive mercy.\n",
            "\n",
            "8 ‘Blessed are the pure in heart, for they will see God.\n",
            "\n",
            "9 ‘Blessed are the peacemakers, for they will be called children of God.\n",
            "\n",
            "10 ‘Blessed are those who are persecuted for righteousness’ sake, for theirs is the kingdom of heaven.\n",
            "\n",
            "11 ‘Blessed are you when people revile you and persecute you and utter all kinds of evil against you falsely on my account. 12 Rejoice and be glad, for your reward is great in heaven, for in the same way they persecuted the prophets who were before you.\n",
            "\n",
            "13 ‘You are the salt of the earth; but if salt has lost its taste, how can its saltiness be restored? It is no longer good for anything, but is thrown out and trampled under foot.\n",
            "\n",
            "14 ‘You are the light of the world. A city built on a hill cannot be hidden. 15 No one after lighting a lamp puts it under the bushel basket, but on the lampstand, and it gives light to all in the house. 16 In the same way, let your light shine before others, so that they may see your good works and give glory to your Father in heaven.\n",
            "\n",
            "17 ‘Do not think that I have come to abolish the law or the prophets; I have come not to abolish but to fulfil. 18 For truly I tell you, until heaven and earth pass away, not one letter, not one stroke of a letter, will pass from the law until all is accomplished. 19 Therefore, whoever breaks one of the least of these commandments, and teaches others to do the same, will be called least in the kingdom of heaven; but whoever does them and teaches them will be called great in the kingdom of heaven. 20 For I tell you, unless your righteousness exceeds that of the scribes and Pharisees, you will never enter the kingdom of heaven.\n",
            "\n",
            "21 ‘You have heard that it was said to those of ancient times, “You shall not murder”; and “whoever murders shall be liable to judgement.” 22 But I say to you that if you are angry with a brother or sister, you will be liable to judgement; and if you insult a brother or sister, you will be liable to the council; and if you say, “You fool”, you will be liable to the hell of fire. 23 So when you are offering your gift at the altar, if you remember that your brother or sister has something against you, 24 leave your gift there before the altar and go; first be reconciled to your brother or sister, and then come and offer your gift. 25 Come to terms quickly with your accuser while you are on the way to court with him, or your accuser may hand you over to the judge, and the judge to the guard, and you will be thrown into prison. 26 Truly I tell you, you will never get out until you have paid the last penny.\n",
            "\n",
            "27 ‘You have heard that it was said, “You shall not commit adultery.” 28 But I say to you that everyone who looks at a woman with lust has already committed adultery with her in his heart. 29 If your right eye causes you to sin, tear it out and throw it away; it is better for you to lose one of your members than for your whole body to be thrown into hell. 30 And if your right hand causes you to sin, cut it off and throw it away; it is better for you to lose one of your members than for your whole body to go into hell.\n",
            "\n",
            "31 ‘It was also said, “Whoever divorces his wife, let him give her a certificate of divorce.” 32 But I say to you that anyone who divorces his wife, except on the ground of unchastity, causes her to commit adultery; and whoever marries a divorced woman commits adultery.\n",
            "\n",
            "33 ‘Again, you have heard that it was said to those of ancient times, “You shall not swear falsely, but carry out the vows you have made to the Lord.” 34 But I say to you, Do not swear at all, either by heaven, for it is the throne of God, 35 or by the earth, for it is his footstool, or by Jerusalem, for it is the city of the great King. 36 And do not swear by your head, for you cannot make one hair white or black. 37 Let your word be “Yes, Yes” or “No, No”; anything more than this comes from the evil one.\n",
            "\n",
            "38 ‘You have heard that it was said, “An eye for an eye and a tooth for a tooth.” 39 But I say to you, Do not resist an evildoer. But if anyone strikes you on the right cheek, turn the other also; 40 and if anyone wants to sue you and take your coat, give your cloak as well; 41 and if anyone forces you to go one mile, go also the second mile. 42 Give to everyone who begs from you, and do not refuse anyone who wants to borrow from you.\n",
            "\n",
            "43 ‘You have heard that it was said, “You shall love your neighbour and hate your enemy.” 44 But I say to you, Love your enemies and pray for those who persecute you, 45 so that you may be children of your Father in heaven; for he makes his sun rise on the evil and on the good, and sends rain on the righteous and on the unrighteous. 46 For if you love those who love you, what reward do you have? Do not even the tax-collectors do the same? 47 And if you greet only your brothers and sisters, what more are you doing than others? Do not even the Gentiles do the same? 48 Be perfect, therefore, as your heavenly Father is perfect.\n",
            "6 ‘Beware of practising your piety before others in order to be seen by them; for then you have no reward from your Father in heaven.\n",
            "\n",
            "2 ‘So whenever you give alms, do not sound a trumpet before you, as the hypocrites do in the synagogues and in the streets, so that they may be praised by others. Truly I tell you, they have received their reward. 3 But when you give alms, do not let your left hand know what your right hand is doing, 4 so that your alms may be done in secret; and your Father who sees in secret will reward you.\n",
            "\n",
            "5 ‘And whenever you pray, do not be like the hypocrites; for they love to stand and pray in the synagogues and at the street corners, so that they may be seen by others. Truly I tell you, they have received their reward. 6 But whenever you pray, go into your room and shut the door and pray to your Father who is in secret; and your Father who sees in secret will reward you.\n",
            "\n",
            "7 ‘When you are praying, do not heap up empty phrases as the Gentiles do; for they think that they will be heard because of their many words. 8 Do not be like them, for your Father knows what you need before you ask him.\n",
            "\n",
            "9 ‘Pray then in this way:\n",
            "\n",
            "Our Father in heaven,\n",
            "    hallowed be your name.\n",
            "10     Your kingdom come.\n",
            "    Your will be done,\n",
            "        on earth as it is in heaven.\n",
            "11     Give us this day our daily bread.\n",
            "12     And forgive us our debts,\n",
            "        as we also have forgiven our debtors.\n",
            "13     And do not bring us to the time of trial,\n",
            "        but rescue us from the evil one.\n",
            "\n",
            "14 For if you forgive others their trespasses, your heavenly Father will also forgive you; 15 but if you do not forgive others, neither will your Father forgive your trespasses.\n",
            "\n",
            "16 ‘And whenever you fast, do not look dismal, like the hypocrites, for they disfigure their faces so as to show others that they are fasting. Truly I tell you, they have received their reward. 17 But when you fast, put oil on your head and wash your face, 18 so that your fasting may be seen not by others but by your Father who is in secret; and your Father who sees in secret will reward you.\n",
            "\n",
            "19 ‘Do not store up for yourselves treasures on earth, where moth and rust consume and where thieves break in and steal; 20 but store up for yourselves treasures in heaven, where neither moth nor rust consumes and where thieves do not break in and steal. 21 For where your treasure is, there your heart will be also.\n",
            "\n",
            "22 ‘The eye is the lamp of the body. So, if your eye is healthy, your whole body will be full of light; 23 but if your eye is unhealthy, your whole body will be full of darkness. If then the light in you is darkness, how great is the darkness!\n",
            "\n",
            "24 ‘No one can serve two masters; for a slave will either hate the one and love the other, or be devoted to the one and despise the other. You cannot serve God and wealth.\n",
            "\n",
            "25 ‘Therefore I tell you, do not worry about your life, what you will eat or what you will drink, or about your body, what you will wear. Is not life more than food, and the body more than clothing? 26 Look at the birds of the air; they neither sow nor reap nor gather into barns, and yet your heavenly Father feeds them. Are you not of more value than they? 27 And can any of you by worrying add a single hour to your span of life? 28 And why do you worry about clothing? Consider the lilies of the field, how they grow; they neither toil nor spin, 29 yet I tell you, even Solomon in all his glory was not clothed like one of these. 30 But if God so clothes the grass of the field, which is alive today and tomorrow is thrown into the oven, will he not much more clothe you—you of little faith? 31 Therefore do not worry, saying, “What will we eat?” or “What will we drink?” or “What will we wear?” 32 For it is the Gentiles who strive for all these things; and indeed your heavenly Father knows that you need all these things. 33 But strive first for the kingdom of God and his righteousness, and all these things will be given to you as well.\n",
            "\n",
            "34 ‘So do not worry about tomorrow, for tomorrow will bring worries of its own. Today’s trouble is enough for today.\n",
            "7 ‘Do not judge, so that you may not be judged. 2 For with the judgement you make you will be judged, and the measure you give will be the measure you get. 3 Why do you see the speck in your neighbour’s eye, but do not notice the log in your own eye? 4 Or how can you say to your neighbour, “Let me take the speck out of your eye”, while the log is in your own eye? 5 You hypocrite, first take the log out of your own eye, and then you will see clearly to take the speck out of your neighbour’s eye.\n",
            "\n",
            "6 ‘Do not give what is holy to dogs; and do not throw your pearls before swine, or they will trample them under foot and turn and maul you.\n",
            "\n",
            "7 ‘Ask, and it will be given to you; search, and you will find; knock, and the door will be opened for you. 8 For everyone who asks receives, and everyone who searches finds, and for everyone who knocks, the door will be opened. 9 Is there anyone among you who, if your child asks for bread, will give a stone? 10 Or if the child asks for a fish, will give a snake? 11 If you then, who are evil, know how to give good gifts to your children, how much more will your Father in heaven give good things to those who ask him!\n",
            "\n",
            "12 ‘In everything do to others as you would have them do to you; for this is the law and the prophets.\n",
            "\n",
            "13 ‘Enter through the narrow gate; for the gate is wide and the road is easy that leads to destruction, and there are many who take it. 14 For the gate is narrow and the road is hard that leads to life, and there are few who find it.\n",
            "\n",
            "15 ‘Beware of false prophets, who come to you in sheep’s clothing but inwardly are ravenous wolves. 16 You will know them by their fruits. Are grapes gathered from thorns, or figs from thistles? 17 In the same way, every good tree bears good fruit, but the bad tree bears bad fruit. 18 A good tree cannot bear bad fruit, nor can a bad tree bear good fruit. 19 Every tree that does not bear good fruit is cut down and thrown into the fire. 20 Thus you will know them by their fruits.\n",
            "\n",
            "21 ‘Not everyone who says to me, “Lord, Lord”, will enter the kingdom of heaven, but only one who does the will of my Father in heaven. 22 On that day many will say to me, “Lord, Lord, did we not prophesy in your name, and cast out demons in your name, and do many deeds of power in your name?” 23 Then I will declare to them, “I never knew you; go away from me, you evildoers.”\n",
            "\n",
            "24 ‘Everyone then who hears these words of mine and acts on them will be like a wise man who built his house on rock. 25 The rain fell, the floods came, and the winds blew and beat on that house, but it did not fall, because it had been founded on rock. 26 And everyone who hears these words of mine and does not act on them will be like a foolish man who built his house on sand. 27 The rain fell, and the floods came, and the winds blew and beat against that house, and it fell—and great was its fall!’\n",
            "\n",
            "28 Now when Jesus had finished saying these things, the crowds were astounded at his teaching, 29 for he taught them as one having authority, and not as their scribes.\n"
          ]
        }
      ]
    },
    {
      "cell_type": "code",
      "source": [
        "neg_index"
      ],
      "metadata": {
        "colab": {
          "base_uri": "https://localhost:8080/"
        },
        "id": "JGFKFxFFnm5D",
        "outputId": "cd455d45-2b95-4928-b572-edf0d7962ae1"
      },
      "execution_count": 10,
      "outputs": [
        {
          "output_type": "execute_result",
          "data": {
            "text/plain": [
              "[0.32558139534883723, 0.18181818181818182, 0.13636363636363635]"
            ]
          },
          "metadata": {},
          "execution_count": 10
        }
      ]
    },
    {
      "cell_type": "code",
      "source": [
        "neutral_index"
      ],
      "metadata": {
        "colab": {
          "base_uri": "https://localhost:8080/"
        },
        "id": "XD8tcy_bopLF",
        "outputId": "10b8e1c4-d9ba-4114-ae13-e011a9b861f6"
      },
      "execution_count": 11,
      "outputs": [
        {
          "output_type": "execute_result",
          "data": {
            "text/plain": [
              "[0.2558139534883721, 0.21212121212121213, 0.6363636363636364]"
            ]
          },
          "metadata": {},
          "execution_count": 11
        }
      ]
    },
    {
      "cell_type": "code",
      "source": [
        "most_pos"
      ],
      "metadata": {
        "id": "1hTCS1Owy_L7",
        "colab": {
          "base_uri": "https://localhost:8080/"
        },
        "outputId": "a0e34812-56be-48aa-ed58-fb6d399d193e"
      },
      "execution_count": 12,
      "outputs": [
        {
          "output_type": "execute_result",
          "data": {
            "text/plain": [
              "[[(-13.0,\n",
              "   '” 22 But I say to you that if you are angry with a brother or sister, you will be liable to judgement; and if you insult a brother or sister, you will be liable to the council; and if you say, “You fool”, you will be liable to the hell of fire'),\n",
              "  (-7.0,\n",
              "   '\\n\\n11 ‘Blessed are you when people revile you and persecute you and utter all kinds of evil against you falsely on my account'),\n",
              "  (-5.0,\n",
              "   ' 30 And if your right hand causes you to sin, cut it off and throw it away; it is better for you to lose one of your members than for your whole body to go into hell'),\n",
              "  (-4.0,\n",
              "   '\\n\\n21 ‘You have heard that it was said to those of ancient times, “You shall not murder”; and “whoever murders shall be liable to judgement'),\n",
              "  (-4.0,\n",
              "   '\\n\\n33 ‘Again, you have heard that it was said to those of ancient times, “You shall not swear falsely, but carry out the vows you have made to the Lord'),\n",
              "  (-4.0,\n",
              "   ' 29 If your right eye causes you to sin, tear it out and throw it away; it is better for you to lose one of your members than for your whole body to be thrown into hell'),\n",
              "  (-3.0,\n",
              "   ' 37 Let your word be “Yes, Yes” or “No, No”; anything more than this comes from the evil one'),\n",
              "  (-3.0,\n",
              "   ' But if anyone strikes you on the right cheek, turn the other also; 40 and if anyone wants to sue you and take your coat, give your cloak as well; 41 and if anyone forces you to go one mile, go also the second mile'),\n",
              "  (-2.0, '\\n\\n4 ‘Blessed are those who mourn, for they will be comforted'),\n",
              "  (-2.0,\n",
              "   '\\n\\n43 ‘You have heard that it was said, “You shall love your neighbour and hate your enemy'),\n",
              "  (-2.0,\n",
              "   ' 25 Come to terms quickly with your accuser while you are on the way to court with him, or your accuser may hand you over to the judge, and the judge to the guard, and you will be thrown into prison'),\n",
              "  (-2.0,\n",
              "   ' 36 And do not swear by your head, for you cannot make one hair white or black'),\n",
              "  (-2.0,\n",
              "   ' 42 Give to everyone who begs from you, and do not refuse anyone who wants to borrow from you'),\n",
              "  (-1.0,\n",
              "   ' 15 No one after lighting a lamp puts it under the bushel basket, but on the lampstand, and it gives light to all in the house'),\n",
              "  (0.0, ''),\n",
              "  (0.0,\n",
              "   '\\n\\n13 ‘You are the salt of the earth; but if salt has lost its taste, how can its saltiness be restored? It is no longer good for anything, but is thrown out and trampled under foot'),\n",
              "  (0.0, '\\n\\n14 ‘You are the light of the world'),\n",
              "  (0.0,\n",
              "   '\\n\\n17 ‘Do not think that I have come to abolish the law or the prophets; I have come not to abolish but to fulfil'),\n",
              "  (0.0,\n",
              "   '\\n\\n31 ‘It was also said, “Whoever divorces his wife, let him give her a certificate of divorce'),\n",
              "  (0.0,\n",
              "   '\\n\\n38 ‘You have heard that it was said, “An eye for an eye and a tooth for a tooth'),\n",
              "  (0.0, '\\n\\n5 ‘Blessed are the meek, for they will inherit the earth'),\n",
              "  (0.0,\n",
              "   '\\n\\n6 ‘Blessed are those who hunger and thirst for righteousness, for they will be filled'),\n",
              "  (0.0,\n",
              "   ' 26 Truly I tell you, you will never get out until you have paid the last penny'),\n",
              "  (0.0, ' A city built on a hill cannot be hidden'),\n",
              "  (0.0, '” 39 But I say to you, Do not resist an evildoer'),\n",
              "  (1.0,\n",
              "   '\\n\\n27 ‘You have heard that it was said, “You shall not commit adultery'),\n",
              "  (1.0,\n",
              "   '\\n\\n9 ‘Blessed are the peacemakers, for they will be called children of God'),\n",
              "  (1.0,\n",
              "   ' 2 Then he began to speak, and taught them, saying:\\n\\n3 ‘Blessed are the poor in spirit, for theirs is the kingdom of heaven'),\n",
              "  (1.0,\n",
              "   '5 When Jesus saw the crowds, he went up the mountain; and after he sat down, his disciples came to him'),\n",
              "  (1.0,\n",
              "   '” 28 But I say to you that everyone who looks at a woman with lust has already committed adultery with her in his heart'),\n",
              "  (2.0,\n",
              "   '\\n\\n10 ‘Blessed are those who are persecuted for righteousness’ sake, for theirs is the kingdom of heaven'),\n",
              "  (2.0, '\\n\\n7 ‘Blessed are the merciful, for they will receive mercy'),\n",
              "  (2.0, '\\n\\n8 ‘Blessed are the pure in heart, for they will see God'),\n",
              "  (2.0,\n",
              "   '” 32 But I say to you that anyone who divorces his wife, except on the ground of unchastity, causes her to commit adultery; and whoever marries a divorced woman commits adultery'),\n",
              "  (3.0,\n",
              "   '” 44 But I say to you, Love your enemies and pray for those who persecute you, 45 so that you may be children of your Father in heaven; for he makes his sun rise on the evil and on the good, and sends rain on the righteous and on the unrighteous'),\n",
              "  (4.0,\n",
              "   ' 18 For truly I tell you, until heaven and earth pass away, not one letter, not one stroke of a letter, will pass from the law until all is accomplished'),\n",
              "  (4.0,\n",
              "   ' 20 For I tell you, unless your righteousness exceeds that of the scribes and Pharisees, you will never enter the kingdom of heaven'),\n",
              "  (4.0,\n",
              "   '” 34 But I say to you, Do not swear at all, either by heaven, for it is the throne of God, 35 or by the earth, for it is his footstool, or by Jerusalem, for it is the city of the great King'),\n",
              "  (5.0,\n",
              "   ' 23 So when you are offering your gift at the altar, if you remember that your brother or sister has something against you, 24 leave your gift there before the altar and go; first be reconciled to your brother or sister, and then come and offer your gift'),\n",
              "  (7.0,\n",
              "   ' 16 In the same way, let your light shine before others, so that they may see your good works and give glory to your Father in heaven'),\n",
              "  (7.0,\n",
              "   ' 19 Therefore, whoever breaks one of the least of these commandments, and teaches others to do the same, will be called least in the kingdom of heaven; but whoever does them and teaches them will be called great in the kingdom of heaven'),\n",
              "  (12.0,\n",
              "   ' 12 Rejoice and be glad, for your reward is great in heaven, for in the same way they persecuted the prophets who were before you'),\n",
              "  (19.0,\n",
              "   ' 46 For if you love those who love you, what reward do you have? Do not even the tax-collectors do the same? 47 And if you greet only your brothers and sisters, what more are you doing than others? Do not even the Gentiles do the same? 48 Be perfect, therefore, as your heavenly Father is perfect')],\n",
              " [(-6.0,\n",
              "   '\\n\\n34 ‘So do not worry about tomorrow, for tomorrow will bring worries of its own'),\n",
              "  (-3.0,\n",
              "   '\\n\\n25 ‘Therefore I tell you, do not worry about your life, what you will eat or what you will drink, or about your body, what you will wear'),\n",
              "  (-2.0,\n",
              "   ' Are you not of more value than they? 27 And can any of you by worrying add a single hour to your span of life? 28 And why do you worry about clothing? Consider the lilies of the field, how they grow; they neither toil nor spin, 29 yet I tell you, even Solomon in all his glory was not clothed like one of these'),\n",
              "  (-2.0, ' Today’s trouble is enough for today'),\n",
              "  (-1.0,\n",
              "   '\\n13     And do not bring us to the time of trial,\\n        but rescue us from the evil one'),\n",
              "  (-1.0,\n",
              "   ' So, if your eye is healthy, your whole body will be full of light; 23 but if your eye is unhealthy, your whole body will be full of darkness'),\n",
              "  (0.0, ''),\n",
              "  (0.0,\n",
              "   '\\n\\n16 ‘And whenever you fast, do not look dismal, like the hypocrites, for they disfigure their faces so as to show others that they are fasting'),\n",
              "  (0.0, '\\n\\n22 ‘The eye is the lamp of the body'),\n",
              "  (0.0,\n",
              "   '\\n\\n7 ‘When you are praying, do not heap up empty phrases as the Gentiles do; for they think that they will be heard because of their many words'),\n",
              "  (0.0, '\\n10     Your kingdom come'),\n",
              "  (0.0, '\\n11     Give us this day our daily bread'),\n",
              "  (0.0,\n",
              "   ' If then the light in you is darkness, how great is the darkness!\\n\\n24 ‘No one can serve two masters; for a slave will either hate the one and love the other, or be devoted to the one and despise the other'),\n",
              "  (1.0,\n",
              "   '\\n12     And forgive us our debts,\\n        as we also have forgiven our debtors'),\n",
              "  (2.0,\n",
              "   '\\n\\n19 ‘Do not store up for yourselves treasures on earth, where moth and rust consume and where thieves break in and steal; 20 but store up for yourselves treasures in heaven, where neither moth nor rust consumes and where thieves do not break in and steal'),\n",
              "  (2.0, '\\n    Your will be done,\\n        on earth as it is in heaven'),\n",
              "  (2.0,\n",
              "   ' 17 But when you fast, put oil on your head and wash your face, 18 so that your fasting may be seen not by others but by your Father who is in secret; and your Father who sees in secret will reward you'),\n",
              "  (2.0, ' 21 For where your treasure is, there your heart will be also'),\n",
              "  (2.0,\n",
              "   ' 3 But when you give alms, do not let your left hand know what your right hand is doing, 4 so that your alms may be done in secret; and your Father who sees in secret will reward you'),\n",
              "  (2.0,\n",
              "   ' 8 Do not be like them, for your Father knows what you need before you ask him'),\n",
              "  (2.0, ' Truly I tell you, they have received their reward'),\n",
              "  (2.0, ' Truly I tell you, they have received their reward'),\n",
              "  (2.0, ' Truly I tell you, they have received their reward'),\n",
              "  (3.0,\n",
              "   '\\n\\n2 ‘So whenever you give alms, do not sound a trumpet before you, as the hypocrites do in the synagogues and in the streets, so that they may be praised by others'),\n",
              "  (3.0,\n",
              "   '\\n\\n9 ‘Pray then in this way:\\n\\nOur Father in heaven,\\n    hallowed be your name'),\n",
              "  (3.0,\n",
              "   ' 33 But strive first for the kingdom of God and his righteousness, and all these things will be given to you as well'),\n",
              "  (3.0,\n",
              "   '6 ‘Beware of practising your piety before others in order to be seen by them; for then you have no reward from your Father in heaven'),\n",
              "  (4.0,\n",
              "   ' 30 But if God so clothes the grass of the field, which is alive today and tomorrow is thrown into the oven, will he not much more clothe you—you of little faith? 31 Therefore do not worry, saying, “What will we eat?” or “What will we drink?” or “What will we wear?” 32 For it is the Gentiles who strive for all these things; and indeed your heavenly Father knows that you need all these things'),\n",
              "  (4.0,\n",
              "   ' 6 But whenever you pray, go into your room and shut the door and pray to your Father who is in secret; and your Father who sees in secret will reward you'),\n",
              "  (4.0,\n",
              "   ' Is not life more than food, and the body more than clothing? 26 Look at the birds of the air; they neither sow nor reap nor gather into barns, and yet your heavenly Father feeds them'),\n",
              "  (4.0, ' You cannot serve God and wealth'),\n",
              "  (7.0,\n",
              "   '\\n\\n5 ‘And whenever you pray, do not be like the hypocrites; for they love to stand and pray in the synagogues and at the street corners, so that they may be seen by others'),\n",
              "  (8.0,\n",
              "   '\\n\\n14 For if you forgive others their trespasses, your heavenly Father will also forgive you; 15 but if you do not forgive others, neither will your Father forgive your trespasses')],\n",
              " [(-2.0,\n",
              "   '\\n\\n13 ‘Enter through the narrow gate; for the gate is wide and the road is easy that leads to destruction, and there are many who take it'),\n",
              "  (-1.0,\n",
              "   '\\n\\n15 ‘Beware of false prophets, who come to you in sheep’s clothing but inwardly are ravenous wolves'),\n",
              "  (-1.0,\n",
              "   ' 14 For the gate is narrow and the road is hard that leads to life, and there are few who find it'),\n",
              "  (0.0, ''),\n",
              "  (0.0,\n",
              "   '\\n\\n6 ‘Do not give what is holy to dogs; and do not throw your pearls before swine, or they will trample them under foot and turn and maul you'),\n",
              "  (0.0,\n",
              "   '\\n\\n7 ‘Ask, and it will be given to you; search, and you will find; knock, and the door will be opened for you'),\n",
              "  (0.0, ' 16 You will know them by their fruits'),\n",
              "  (0.0,\n",
              "   ' 18 A good tree cannot bear bad fruit, nor can a bad tree bear good fruit'),\n",
              "  (0.0,\n",
              "   ' 19 Every tree that does not bear good fruit is cut down and thrown into the fire'),\n",
              "  (0.0,\n",
              "   ' 2 For with the judgement you make you will be judged, and the measure you give will be the measure you get'),\n",
              "  (0.0, ' 20 Thus you will know them by their fruits'),\n",
              "  (0.0,\n",
              "   ' 22 On that day many will say to me, “Lord, Lord, did we not prophesy in your name, and cast out demons in your name, and do many deeds of power in your name?” 23 Then I will declare to them, “I never knew you; go away from me, you evildoers'),\n",
              "  (0.0,\n",
              "   ' 25 The rain fell, the floods came, and the winds blew and beat on that house, but it did not fall, because it had been founded on rock'),\n",
              "  (0.0,\n",
              "   ' 26 And everyone who hears these words of mine and does not act on them will be like a foolish man who built his house on sand'),\n",
              "  (0.0,\n",
              "   ' 8 For everyone who asks receives, and everyone who searches finds, and for everyone who knocks, the door will be opened'),\n",
              "  (0.0,\n",
              "   ' Are grapes gathered from thorns, or figs from thistles? 17 In the same way, every good tree bears good fruit, but the bad tree bears bad fruit'),\n",
              "  (0.0, '7 ‘Do not judge, so that you may not be judged'),\n",
              "  (1.0,\n",
              "   ' 3 Why do you see the speck in your neighbour’s eye, but do not notice the log in your own eye? 4 Or how can you say to your neighbour, “Let me take the speck out of your eye”, while the log is in your own eye? 5 You hypocrite, first take the log out of your own eye, and then you will see clearly to take the speck out of your neighbour’s eye'),\n",
              "  (2.0,\n",
              "   '”\\n\\n24 ‘Everyone then who hears these words of mine and acts on them will be like a wise man who built his house on rock'),\n",
              "  (4.0,\n",
              "   '\\n\\n21 ‘Not everyone who says to me, “Lord, Lord”, will enter the kingdom of heaven, but only one who does the will of my Father in heaven'),\n",
              "  (5.0,\n",
              "   ' 9 Is there anyone among you who, if your child asks for bread, will give a stone? 10 Or if the child asks for a fish, will give a snake? 11 If you then, who are evil, know how to give good gifts to your children, how much more will your Father in heaven give good things to those who ask him!\\n\\n12 ‘In everything do to others as you would have them do to you; for this is the law and the prophets'),\n",
              "  (8.0,\n",
              "   ' 27 The rain fell, and the floods came, and the winds blew and beat against that house, and it fell—and great was its fall!’\\n\\n28 Now when Jesus had finished saying these things, the crowds were astounded at his teaching, 29 for he taught them as one having authority, and not as their scribes')]]"
            ]
          },
          "metadata": {},
          "execution_count": 12
        }
      ]
    },
    {
      "cell_type": "code",
      "source": [
        "import matplotlib.pyplot as plt\n",
        "import numpy as np\n",
        "\n",
        "X = np.arange(5,8)\n",
        "plt.plot(X,pos_index,'-.',label='pos')\n",
        "plt.plot(X,neg_index, '--',label='neg')\n",
        "plt.plot(X,neutral_index,'-',label='neu')\n",
        "plt.legend()\n",
        "plt.xticks(X)\n",
        "plt.xlabel('Chapter')\n",
        "plt.ylabel('Index')\n",
        "plt.grid()\n",
        "plt.savefig('afinn-bsi.png')\n",
        "plt.show()  "
      ],
      "metadata": {
        "id": "xg7c8R5SotqE",
        "colab": {
          "base_uri": "https://localhost:8080/",
          "height": 279
        },
        "outputId": "4bd029af-3f43-4f81-82ea-c448077fbef7"
      },
      "execution_count": 13,
      "outputs": [
        {
          "output_type": "display_data",
          "data": {
            "text/plain": [
              "<Figure size 432x288 with 1 Axes>"
            ],
            "image/png": "[encoded data removed]"
          },
          "metadata": {
            "needs_background": "light"
          }
        }
      ]
    },
    {
      "cell_type": "code",
      "source": [
        "##imports\n",
        "!pip install torch\n",
        "import torch\n",
        "import pandas as pd\n",
        "# !pip install onnx\n",
        "# import onnx\n",
        "# !pip install onnx-tf\n",
        "# from onnx_tf.backend import prepare\n",
        "\n",
        "!pip install transformers==4.10\n",
        "\n",
        "import transformers\n",
        "from transformers import BertTokenizer, BertModel, BertConfig\n",
        "\n",
        "import pandas as pd\n",
        "\n",
        "import spacy\n",
        "# spacy_en = spacy.load('en')\n",
        "import re\n",
        "\n",
        "from torch.utils.data import DataLoader\n",
        "\n",
        "import numpy as np"
      ],
      "metadata": {
        "colab": {
          "base_uri": "https://localhost:8080/"
        },
        "id": "-ufFKcPdrSxg",
        "outputId": "9a675123-72cb-4195-d299-abed7ea82295"
      },
      "execution_count": 14,
      "outputs": [
        {
          "output_type": "stream",
          "name": "stdout",
          "text": [
            "Looking in indexes: https://pypi.org/simple, https://us-python.pkg.dev/colab-wheels/public/simple/\n",
            "Requirement already satisfied: torch in /usr/local/lib/python3.7/dist-packages (1.12.1+cu113)\n",
            "Requirement already satisfied: typing-extensions in /usr/local/lib/python3.7/dist-packages (from torch) (4.1.1)\n",
            "Looking in indexes: https://pypi.org/simple, https://us-python.pkg.dev/colab-wheels/public/simple/\n",
            "Collecting transformers==4.10\n",
            "  Downloading transformers-4.10.0-py3-none-any.whl (2.8 MB)\n",
            "\u001b[K     |████████████████████████████████| 2.8 MB 5.2 MB/s \n",
            "\u001b[?25hRequirement already satisfied: pyyaml>=5.1 in /usr/local/lib/python3.7/dist-packages (from transformers==4.10) (6.0)\n",
            "Requirement already satisfied: regex!=2019.12.17 in /usr/local/lib/python3.7/dist-packages (from transformers==4.10) (2022.6.2)\n",
            "Requirement already satisfied: importlib-metadata in /usr/local/lib/python3.7/dist-packages (from transformers==4.10) (4.12.0)\n",
            "Collecting huggingface-hub>=0.0.12\n",
            "  Downloading huggingface_hub-0.10.0-py3-none-any.whl (163 kB)\n",
            "\u001b[K     |████████████████████████████████| 163 kB 45.9 MB/s \n",
            "\u001b[?25hRequirement already satisfied: tqdm>=4.27 in /usr/local/lib/python3.7/dist-packages (from transformers==4.10) (4.64.1)\n",
            "Collecting tokenizers<0.11,>=0.10.1\n",
            "  Downloading tokenizers-0.10.3-cp37-cp37m-manylinux_2_5_x86_64.manylinux1_x86_64.manylinux_2_12_x86_64.manylinux2010_x86_64.whl (3.3 MB)\n",
            "\u001b[K     |████████████████████████████████| 3.3 MB 28.9 MB/s \n",
            "\u001b[?25hRequirement already satisfied: requests in /usr/local/lib/python3.7/dist-packages (from transformers==4.10) (2.23.0)\n",
            "Requirement already satisfied: packaging in /usr/local/lib/python3.7/dist-packages (from transformers==4.10) (21.3)\n",
            "Requirement already satisfied: numpy>=1.17 in /usr/local/lib/python3.7/dist-packages (from transformers==4.10) (1.21.6)\n",
            "Collecting sacremoses\n",
            "  Downloading sacremoses-0.0.53.tar.gz (880 kB)\n",
            "\u001b[K     |████████████████████████████████| 880 kB 52.1 MB/s \n",
            "\u001b[?25hRequirement already satisfied: filelock in /usr/local/lib/python3.7/dist-packages (from transformers==4.10) (3.8.0)\n",
            "Requirement already satisfied: typing-extensions>=3.7.4.3 in /usr/local/lib/python3.7/dist-packages (from huggingface-hub>=0.0.12->transformers==4.10) (4.1.1)\n",
            "Requirement already satisfied: pyparsing!=3.0.5,>=2.0.2 in /usr/local/lib/python3.7/dist-packages (from packaging->transformers==4.10) (3.0.9)\n",
            "Requirement already satisfied: zipp>=0.5 in /usr/local/lib/python3.7/dist-packages (from importlib-metadata->transformers==4.10) (3.8.1)\n",
            "Requirement already satisfied: urllib3!=1.25.0,!=1.25.1,<1.26,>=1.21.1 in /usr/local/lib/python3.7/dist-packages (from requests->transformers==4.10) (1.24.3)\n",
            "Requirement already satisfied: idna<3,>=2.5 in /usr/local/lib/python3.7/dist-packages (from requests->transformers==4.10) (2.10)\n",
            "Requirement already satisfied: chardet<4,>=3.0.2 in /usr/local/lib/python3.7/dist-packages (from requests->transformers==4.10) (3.0.4)\n",
            "Requirement already satisfied: certifi>=2017.4.17 in /usr/local/lib/python3.7/dist-packages (from requests->transformers==4.10) (2022.6.15)\n",
            "Requirement already satisfied: six in /usr/local/lib/python3.7/dist-packages (from sacremoses->transformers==4.10) (1.15.0)\n",
            "Requirement already satisfied: click in /usr/local/lib/python3.7/dist-packages (from sacremoses->transformers==4.10) (7.1.2)\n",
            "Requirement already satisfied: joblib in /usr/local/lib/python3.7/dist-packages (from sacremoses->transformers==4.10) (1.1.0)\n",
            "Building wheels for collected packages: sacremoses\n",
            "  Building wheel for sacremoses (setup.py) ... \u001b[?25l\u001b[?25hdone\n",
            "  Created wheel for sacremoses: filename=sacremoses-0.0.53-py3-none-any.whl size=895260 sha256=a9f5092e4e376089649c564620e64526c77b0901b807def62b3fd12a2ac0d9e8\n",
            "  Stored in directory: /root/.cache/pip/wheels/87/39/dd/a83eeef36d0bf98e7a4d1933a4ad2d660295a40613079bafc9\n",
            "Successfully built sacremoses\n",
            "Installing collected packages: tokenizers, sacremoses, huggingface-hub, transformers\n",
            "Successfully installed huggingface-hub-0.10.0 sacremoses-0.0.53 tokenizers-0.10.3 transformers-4.10.0\n"
          ]
        }
      ]
    },
    {
      "cell_type": "code",
      "source": [
        "PATH = \"/content/drive/MyDrive/bertmodel.pth\""
      ],
      "metadata": {
        "id": "nJCUIIgnrb19"
      },
      "execution_count": 15,
      "outputs": []
    },
    {
      "cell_type": "code",
      "source": [
        "from google.colab import drive\n",
        "drive.mount('/content/drive')\n",
        "!pip freeze --local > /content/drive/My\\ Drive/colab_installed.txt"
      ],
      "metadata": {
        "colab": {
          "base_uri": "https://localhost:8080/"
        },
        "id": "CW8NuTKnru85",
        "outputId": "a6450196-268a-49d9-e428-02a62a680c98"
      },
      "execution_count": 16,
      "outputs": [
        {
          "output_type": "stream",
          "name": "stdout",
          "text": [
            "Drive already mounted at /content/drive; to attempt to forcibly remount, call drive.mount(\"/content/drive\", force_remount=True).\n"
          ]
        }
      ]
    },
    {
      "cell_type": "code",
      "source": [
        "class BERT(torch.nn.Module):\n",
        "    def __init__(self):\n",
        "        super().__init__()\n",
        "        self.layer1 = transformers.BertModel.from_pretrained('bert-base-uncased')\n",
        "        self.layer2 = torch.nn.Dropout(0.3)\n",
        "        self.layer3 = torch.nn.Linear(768, 11)\n",
        "\n",
        "    def forward(self, ids, mask, token_type_ids, return_dict = False):\n",
        "        unw, out_1 = self.layer1(ids, attention_mask = mask, token_type_ids = token_type_ids)[0], self.layer1(ids, attention_mask = mask, token_type_ids = token_type_ids)[1]\n",
        "        out_2 = self.layer2(out_1)\n",
        "        out_final = self.layer3(out_2)\n",
        "        return out_final\n",
        "\n",
        "model = BERT()\n",
        "model"
      ],
      "metadata": {
        "colab": {
          "base_uri": "https://localhost:8080/",
          "height": 1000,
          "referenced_widgets": [
            "521456ee18544ebab15d88a77cefd4c6",
            "b74219b8c48345a0b62ef9fdeb62b9aa",
            "e8d18cac2f2047709ebd6eb4feb5e207",
            "0654d8f2475041c2a974f3afce285e41",
            "637f4c70f70446c3a61367a6e03cf436",
            "4d8a00a499a748c0aec1cfa5cd49214c",
            "4219a793356f4319b4f8e3b7201a9c67",
            "93e160f35ea946cb90fe24f76bd64b76",
            "4c7b997a37bc47b58331061d83c12b6e",
            "0a03ce09982f4b82b7e276b0cb6bf124",
            "617e524e925b4afd8c3e01982a16b9f0",
            "e4d6a4d4e792464c9ef481db173ccdd2",
            "5e2c183419e44aa383c275bed87c1891",
            "7f72ed7178e84047b7b1f45a6c6ff0c6",
            "cefbb241d16c442082801a12753c848a",
            "2349200cb5df4eae86507ae1d71c810d",
            "6ce8d19f386b48378567062d1a4fbde0",
            "99699b1afae64d849e12101dc7787a45",
            "c1f16e438bf14a29b08b372b1fa4e15a",
            "f126a7695f304d91bbf2d87292559687",
            "df3aee336f484bd2ae3f44f4e3cd5821",
            "868b5e60d5954f67bfa89df0bcffac47"
          ]
        },
        "id": "pw5pFYVrrkLH",
        "outputId": "47d45e11-979d-449c-a70b-9098e23e4b2f"
      },
      "execution_count": 17,
      "outputs": [
        {
          "output_type": "display_data",
          "data": {
            "text/plain": [
              "Downloading:   0%|          | 0.00/570 [00:00<?, ?B/s]"
            ],
            "application/vnd.jupyter.widget-view+json": {
              "version_major": 2,
              "version_minor": 0,
              "model_id": "521456ee18544ebab15d88a77cefd4c6"
            }
          },
          "metadata": {}
        },
        {
          "output_type": "display_data",
          "data": {
            "text/plain": [
              "Downloading:   0%|          | 0.00/440M [00:00<?, ?B/s]"
            ],
            "application/vnd.jupyter.widget-view+json": {
              "version_major": 2,
              "version_minor": 0,
              "model_id": "e4d6a4d4e792464c9ef481db173ccdd2"
            }
          },
          "metadata": {}
        },
        {
          "output_type": "stream",
          "name": "stderr",
          "text": [
            "Some weights of the model checkpoint at bert-base-uncased were not used when initializing BertModel: ['cls.predictions.bias', 'cls.predictions.decoder.weight', 'cls.seq_relationship.weight', 'cls.predictions.transform.dense.weight', 'cls.predictions.transform.LayerNorm.weight', 'cls.seq_relationship.bias', 'cls.predictions.transform.dense.bias', 'cls.predictions.transform.LayerNorm.bias']\n",
            "- This IS expected if you are initializing BertModel from the checkpoint of a model trained on another task or with another architecture (e.g. initializing a BertForSequenceClassification model from a BertForPreTraining model).\n",
            "- This IS NOT expected if you are initializing BertModel from the checkpoint of a model that you expect to be exactly identical (initializing a BertForSequenceClassification model from a BertForSequenceClassification model).\n"
          ]
        },
        {
          "output_type": "execute_result",
          "data": {
            "text/plain": [
              "BERT(\n",
              "  (layer1): BertModel(\n",
              "    (embeddings): BertEmbeddings(\n",
              "      (word_embeddings): Embedding(30522, 768, padding_idx=0)\n",
              "      (position_embeddings): Embedding(512, 768)\n",
              "      (token_type_embeddings): Embedding(2, 768)\n",
              "      (LayerNorm): LayerNorm((768,), eps=1e-12, elementwise_affine=True)\n",
              "      (dropout): Dropout(p=0.1, inplace=False)\n",
              "    )\n",
              "    (encoder): BertEncoder(\n",
              "      (layer): ModuleList(\n",
              "        (0): BertLayer(\n",
              "          (attention): BertAttention(\n",
              "            (self): BertSelfAttention(\n",
              "              (query): Linear(in_features=768, out_features=768, bias=True)\n",
              "              (key): Linear(in_features=768, out_features=768, bias=True)\n",
              "              (value): Linear(in_features=768, out_features=768, bias=True)\n",
              "              (dropout): Dropout(p=0.1, inplace=False)\n",
              "            )\n",
              "            (output): BertSelfOutput(\n",
              "              (dense): Linear(in_features=768, out_features=768, bias=True)\n",
              "              (LayerNorm): LayerNorm((768,), eps=1e-12, elementwise_affine=True)\n",
              "              (dropout): Dropout(p=0.1, inplace=False)\n",
              "            )\n",
              "          )\n",
              "          (intermediate): BertIntermediate(\n",
              "            (dense): Linear(in_features=768, out_features=3072, bias=True)\n",
              "          )\n",
              "          (output): BertOutput(\n",
              "            (dense): Linear(in_features=3072, out_features=768, bias=True)\n",
              "            (LayerNorm): LayerNorm((768,), eps=1e-12, elementwise_affine=True)\n",
              "            (dropout): Dropout(p=0.1, inplace=False)\n",
              "          )\n",
              "        )\n",
              "        (1): BertLayer(\n",
              "          (attention): BertAttention(\n",
              "            (self): BertSelfAttention(\n",
              "              (query): Linear(in_features=768, out_features=768, bias=True)\n",
              "              (key): Linear(in_features=768, out_features=768, bias=True)\n",
              "              (value): Linear(in_features=768, out_features=768, bias=True)\n",
              "              (dropout): Dropout(p=0.1, inplace=False)\n",
              "            )\n",
              "            (output): BertSelfOutput(\n",
              "              (dense): Linear(in_features=768, out_features=768, bias=True)\n",
              "              (LayerNorm): LayerNorm((768,), eps=1e-12, elementwise_affine=True)\n",
              "              (dropout): Dropout(p=0.1, inplace=False)\n",
              "            )\n",
              "          )\n",
              "          (intermediate): BertIntermediate(\n",
              "            (dense): Linear(in_features=768, out_features=3072, bias=True)\n",
              "          )\n",
              "          (output): BertOutput(\n",
              "            (dense): Linear(in_features=3072, out_features=768, bias=True)\n",
              "            (LayerNorm): LayerNorm((768,), eps=1e-12, elementwise_affine=True)\n",
              "            (dropout): Dropout(p=0.1, inplace=False)\n",
              "          )\n",
              "        )\n",
              "        (2): BertLayer(\n",
              "          (attention): BertAttention(\n",
              "            (self): BertSelfAttention(\n",
              "              (query): Linear(in_features=768, out_features=768, bias=True)\n",
              "              (key): Linear(in_features=768, out_features=768, bias=True)\n",
              "              (value): Linear(in_features=768, out_features=768, bias=True)\n",
              "              (dropout): Dropout(p=0.1, inplace=False)\n",
              "            )\n",
              "            (output): BertSelfOutput(\n",
              "              (dense): Linear(in_features=768, out_features=768, bias=True)\n",
              "              (LayerNorm): LayerNorm((768,), eps=1e-12, elementwise_affine=True)\n",
              "              (dropout): Dropout(p=0.1, inplace=False)\n",
              "            )\n",
              "          )\n",
              "          (intermediate): BertIntermediate(\n",
              "            (dense): Linear(in_features=768, out_features=3072, bias=True)\n",
              "          )\n",
              "          (output): BertOutput(\n",
              "            (dense): Linear(in_features=3072, out_features=768, bias=True)\n",
              "            (LayerNorm): LayerNorm((768,), eps=1e-12, elementwise_affine=True)\n",
              "            (dropout): Dropout(p=0.1, inplace=False)\n",
              "          )\n",
              "        )\n",
              "        (3): BertLayer(\n",
              "          (attention): BertAttention(\n",
              "            (self): BertSelfAttention(\n",
              "              (query): Linear(in_features=768, out_features=768, bias=True)\n",
              "              (key): Linear(in_features=768, out_features=768, bias=True)\n",
              "              (value): Linear(in_features=768, out_features=768, bias=True)\n",
              "              (dropout): Dropout(p=0.1, inplace=False)\n",
              "            )\n",
              "            (output): BertSelfOutput(\n",
              "              (dense): Linear(in_features=768, out_features=768, bias=True)\n",
              "              (LayerNorm): LayerNorm((768,), eps=1e-12, elementwise_affine=True)\n",
              "              (dropout): Dropout(p=0.1, inplace=False)\n",
              "            )\n",
              "          )\n",
              "          (intermediate): BertIntermediate(\n",
              "            (dense): Linear(in_features=768, out_features=3072, bias=True)\n",
              "          )\n",
              "          (output): BertOutput(\n",
              "            (dense): Linear(in_features=3072, out_features=768, bias=True)\n",
              "            (LayerNorm): LayerNorm((768,), eps=1e-12, elementwise_affine=True)\n",
              "            (dropout): Dropout(p=0.1, inplace=False)\n",
              "          )\n",
              "        )\n",
              "        (4): BertLayer(\n",
              "          (attention): BertAttention(\n",
              "            (self): BertSelfAttention(\n",
              "              (query): Linear(in_features=768, out_features=768, bias=True)\n",
              "              (key): Linear(in_features=768, out_features=768, bias=True)\n",
              "              (value): Linear(in_features=768, out_features=768, bias=True)\n",
              "              (dropout): Dropout(p=0.1, inplace=False)\n",
              "            )\n",
              "            (output): BertSelfOutput(\n",
              "              (dense): Linear(in_features=768, out_features=768, bias=True)\n",
              "              (LayerNorm): LayerNorm((768,), eps=1e-12, elementwise_affine=True)\n",
              "              (dropout): Dropout(p=0.1, inplace=False)\n",
              "            )\n",
              "          )\n",
              "          (intermediate): BertIntermediate(\n",
              "            (dense): Linear(in_features=768, out_features=3072, bias=True)\n",
              "          )\n",
              "          (output): BertOutput(\n",
              "            (dense): Linear(in_features=3072, out_features=768, bias=True)\n",
              "            (LayerNorm): LayerNorm((768,), eps=1e-12, elementwise_affine=True)\n",
              "            (dropout): Dropout(p=0.1, inplace=False)\n",
              "          )\n",
              "        )\n",
              "        (5): BertLayer(\n",
              "          (attention): BertAttention(\n",
              "            (self): BertSelfAttention(\n",
              "              (query): Linear(in_features=768, out_features=768, bias=True)\n",
              "              (key): Linear(in_features=768, out_features=768, bias=True)\n",
              "              (value): Linear(in_features=768, out_features=768, bias=True)\n",
              "              (dropout): Dropout(p=0.1, inplace=False)\n",
              "            )\n",
              "            (output): BertSelfOutput(\n",
              "              (dense): Linear(in_features=768, out_features=768, bias=True)\n",
              "              (LayerNorm): LayerNorm((768,), eps=1e-12, elementwise_affine=True)\n",
              "              (dropout): Dropout(p=0.1, inplace=False)\n",
              "            )\n",
              "          )\n",
              "          (intermediate): BertIntermediate(\n",
              "            (dense): Linear(in_features=768, out_features=3072, bias=True)\n",
              "          )\n",
              "          (output): BertOutput(\n",
              "            (dense): Linear(in_features=3072, out_features=768, bias=True)\n",
              "            (LayerNorm): LayerNorm((768,), eps=1e-12, elementwise_affine=True)\n",
              "            (dropout): Dropout(p=0.1, inplace=False)\n",
              "          )\n",
              "        )\n",
              "        (6): BertLayer(\n",
              "          (attention): BertAttention(\n",
              "            (self): BertSelfAttention(\n",
              "              (query): Linear(in_features=768, out_features=768, bias=True)\n",
              "              (key): Linear(in_features=768, out_features=768, bias=True)\n",
              "              (value): Linear(in_features=768, out_features=768, bias=True)\n",
              "              (dropout): Dropout(p=0.1, inplace=False)\n",
              "            )\n",
              "            (output): BertSelfOutput(\n",
              "              (dense): Linear(in_features=768, out_features=768, bias=True)\n",
              "              (LayerNorm): LayerNorm((768,), eps=1e-12, elementwise_affine=True)\n",
              "              (dropout): Dropout(p=0.1, inplace=False)\n",
              "            )\n",
              "          )\n",
              "          (intermediate): BertIntermediate(\n",
              "            (dense): Linear(in_features=768, out_features=3072, bias=True)\n",
              "          )\n",
              "          (output): BertOutput(\n",
              "            (dense): Linear(in_features=3072, out_features=768, bias=True)\n",
              "            (LayerNorm): LayerNorm((768,), eps=1e-12, elementwise_affine=True)\n",
              "            (dropout): Dropout(p=0.1, inplace=False)\n",
              "          )\n",
              "        )\n",
              "        (7): BertLayer(\n",
              "          (attention): BertAttention(\n",
              "            (self): BertSelfAttention(\n",
              "              (query): Linear(in_features=768, out_features=768, bias=True)\n",
              "              (key): Linear(in_features=768, out_features=768, bias=True)\n",
              "              (value): Linear(in_features=768, out_features=768, bias=True)\n",
              "              (dropout): Dropout(p=0.1, inplace=False)\n",
              "            )\n",
              "            (output): BertSelfOutput(\n",
              "              (dense): Linear(in_features=768, out_features=768, bias=True)\n",
              "              (LayerNorm): LayerNorm((768,), eps=1e-12, elementwise_affine=True)\n",
              "              (dropout): Dropout(p=0.1, inplace=False)\n",
              "            )\n",
              "          )\n",
              "          (intermediate): BertIntermediate(\n",
              "            (dense): Linear(in_features=768, out_features=3072, bias=True)\n",
              "          )\n",
              "          (output): BertOutput(\n",
              "            (dense): Linear(in_features=3072, out_features=768, bias=True)\n",
              "            (LayerNorm): LayerNorm((768,), eps=1e-12, elementwise_affine=True)\n",
              "            (dropout): Dropout(p=0.1, inplace=False)\n",
              "          )\n",
              "        )\n",
              "        (8): BertLayer(\n",
              "          (attention): BertAttention(\n",
              "            (self): BertSelfAttention(\n",
              "              (query): Linear(in_features=768, out_features=768, bias=True)\n",
              "              (key): Linear(in_features=768, out_features=768, bias=True)\n",
              "              (value): Linear(in_features=768, out_features=768, bias=True)\n",
              "              (dropout): Dropout(p=0.1, inplace=False)\n",
              "            )\n",
              "            (output): BertSelfOutput(\n",
              "              (dense): Linear(in_features=768, out_features=768, bias=True)\n",
              "              (LayerNorm): LayerNorm((768,), eps=1e-12, elementwise_affine=True)\n",
              "              (dropout): Dropout(p=0.1, inplace=False)\n",
              "            )\n",
              "          )\n",
              "          (intermediate): BertIntermediate(\n",
              "            (dense): Linear(in_features=768, out_features=3072, bias=True)\n",
              "          )\n",
              "          (output): BertOutput(\n",
              "            (dense): Linear(in_features=3072, out_features=768, bias=True)\n",
              "            (LayerNorm): LayerNorm((768,), eps=1e-12, elementwise_affine=True)\n",
              "            (dropout): Dropout(p=0.1, inplace=False)\n",
              "          )\n",
              "        )\n",
              "        (9): BertLayer(\n",
              "          (attention): BertAttention(\n",
              "            (self): BertSelfAttention(\n",
              "              (query): Linear(in_features=768, out_features=768, bias=True)\n",
              "              (key): Linear(in_features=768, out_features=768, bias=True)\n",
              "              (value): Linear(in_features=768, out_features=768, bias=True)\n",
              "              (dropout): Dropout(p=0.1, inplace=False)\n",
              "            )\n",
              "            (output): BertSelfOutput(\n",
              "              (dense): Linear(in_features=768, out_features=768, bias=True)\n",
              "              (LayerNorm): LayerNorm((768,), eps=1e-12, elementwise_affine=True)\n",
              "              (dropout): Dropout(p=0.1, inplace=False)\n",
              "            )\n",
              "          )\n",
              "          (intermediate): BertIntermediate(\n",
              "            (dense): Linear(in_features=768, out_features=3072, bias=True)\n",
              "          )\n",
              "          (output): BertOutput(\n",
              "            (dense): Linear(in_features=3072, out_features=768, bias=True)\n",
              "            (LayerNorm): LayerNorm((768,), eps=1e-12, elementwise_affine=True)\n",
              "            (dropout): Dropout(p=0.1, inplace=False)\n",
              "          )\n",
              "        )\n",
              "        (10): BertLayer(\n",
              "          (attention): BertAttention(\n",
              "            (self): BertSelfAttention(\n",
              "              (query): Linear(in_features=768, out_features=768, bias=True)\n",
              "              (key): Linear(in_features=768, out_features=768, bias=True)\n",
              "              (value): Linear(in_features=768, out_features=768, bias=True)\n",
              "              (dropout): Dropout(p=0.1, inplace=False)\n",
              "            )\n",
              "            (output): BertSelfOutput(\n",
              "              (dense): Linear(in_features=768, out_features=768, bias=True)\n",
              "              (LayerNorm): LayerNorm((768,), eps=1e-12, elementwise_affine=True)\n",
              "              (dropout): Dropout(p=0.1, inplace=False)\n",
              "            )\n",
              "          )\n",
              "          (intermediate): BertIntermediate(\n",
              "            (dense): Linear(in_features=768, out_features=3072, bias=True)\n",
              "          )\n",
              "          (output): BertOutput(\n",
              "            (dense): Linear(in_features=3072, out_features=768, bias=True)\n",
              "            (LayerNorm): LayerNorm((768,), eps=1e-12, elementwise_affine=True)\n",
              "            (dropout): Dropout(p=0.1, inplace=False)\n",
              "          )\n",
              "        )\n",
              "        (11): BertLayer(\n",
              "          (attention): BertAttention(\n",
              "            (self): BertSelfAttention(\n",
              "              (query): Linear(in_features=768, out_features=768, bias=True)\n",
              "              (key): Linear(in_features=768, out_features=768, bias=True)\n",
              "              (value): Linear(in_features=768, out_features=768, bias=True)\n",
              "              (dropout): Dropout(p=0.1, inplace=False)\n",
              "            )\n",
              "            (output): BertSelfOutput(\n",
              "              (dense): Linear(in_features=768, out_features=768, bias=True)\n",
              "              (LayerNorm): LayerNorm((768,), eps=1e-12, elementwise_affine=True)\n",
              "              (dropout): Dropout(p=0.1, inplace=False)\n",
              "            )\n",
              "          )\n",
              "          (intermediate): BertIntermediate(\n",
              "            (dense): Linear(in_features=768, out_features=3072, bias=True)\n",
              "          )\n",
              "          (output): BertOutput(\n",
              "            (dense): Linear(in_features=3072, out_features=768, bias=True)\n",
              "            (LayerNorm): LayerNorm((768,), eps=1e-12, elementwise_affine=True)\n",
              "            (dropout): Dropout(p=0.1, inplace=False)\n",
              "          )\n",
              "        )\n",
              "      )\n",
              "    )\n",
              "    (pooler): BertPooler(\n",
              "      (dense): Linear(in_features=768, out_features=768, bias=True)\n",
              "      (activation): Tanh()\n",
              "    )\n",
              "  )\n",
              "  (layer2): Dropout(p=0.3, inplace=False)\n",
              "  (layer3): Linear(in_features=768, out_features=11, bias=True)\n",
              ")"
            ]
          },
          "metadata": {},
          "execution_count": 17
        }
      ]
    },
    {
      "cell_type": "markdown",
      "source": [
        "#Cleaning"
      ],
      "metadata": {
        "id": "SS_d19ST9rcf"
      }
    },
    {
      "cell_type": "code",
      "source": [
        "import re\n",
        "def clean(version):\n",
        "  filenames = [\"Chapter-5_cleaned\", \"Chapter-6_cleaned\", \"Chapter-7_cleaned\"]\n",
        "\n",
        "  for i in range(len(filenames)):\n",
        "\n",
        "      filename = version + \"/\" + filenames[i] + \".txt\"\n",
        "      data = \"\"\n",
        "      with open(filename, 'r', encoding='utf-8') as f:\n",
        "          data = f.read()\n",
        "          f.close()\n",
        "          \n",
        "\n",
        "      data = data.replace(\"\\n\", \" \")\n",
        "      data = re.sub(r'\\s+', \" \", data)\n",
        "      data = data.lower()\n",
        "\n",
        "      data = re.sub('[^a-zA-Z0-9\\n\\.]', ' ', data)\n",
        "      data = re.sub(r'\\s+', \" \", data)\n",
        "      sentences = re.split(\"[0-9]+\", data)\n",
        "      sentences = [s.strip() for s in sentences]\n",
        "\n",
        "      output_file = version + \"/\" + filenames[i] + \".csv\"\n",
        "\n",
        "      with open(output_file, 'w', encoding='utf-8') as f:\n",
        "          f.write(\"verse\")\n",
        "          f.write(\"\\n\")\n",
        "          for i in range(len(sentences)):\n",
        "              f.write(sentences[i])\n",
        "              f.write(\"\\n\")\n",
        "          f.close()\n",
        "          \n",
        "      file = pd.read_csv(output_file)\n",
        "      header_list = ['verse']\n",
        "      file.to_csv(output_file, header = header_list, index=False)\n"
      ],
      "metadata": {
        "id": "i6jcloIm9qk1"
      },
      "execution_count": 29,
      "outputs": []
    },
    {
      "cell_type": "code",
      "source": [
        "niv5 = pd.read_csv(\"New International Version/Chapter-5_cleaned.csv\")\n",
        "kjv5 = pd.read_csv(\"King James Version/Chapter-5_cleaned.csv\")\n",
        "nrsv5 = pd.read_csv(\"New Revised Standard Version/Chapter-5_cleaned.csv\")\n",
        "niv6 = pd.read_csv(\"New International Version/Chapter-6_cleaned.csv\")\n",
        "kjv6 = pd.read_csv(\"King James Version/Chapter-6_cleaned.csv\")\n",
        "nrsv6 = pd.read_csv(\"New Revised Standard Version/Chapter-6_cleaned.csv\")\n",
        "niv7 = pd.read_csv(\"New International Version/Chapter-7_cleaned.csv\")\n",
        "kjv7 = pd.read_csv(\"King James Version/Chapter-7_cleaned.csv\")\n",
        "nrsv7 = pd.read_csv(\"New Revised Standard Version/Chapter-7_cleaned.csv\")"
      ],
      "metadata": {
        "id": "x_FbHcMF-xPo"
      },
      "execution_count": 93,
      "outputs": []
    },
    {
      "cell_type": "code",
      "source": [
        "def plot(niv, kjv, nrsv, img):\n",
        "  niv_scores=[]\n",
        "  kjv_scores=[]\n",
        "  nrsv_scores=[]\n",
        "  for i in range(len(niv['verse'])):\n",
        "    v=niv['verse'][i]\n",
        "    v=v.split('.')\n",
        "    pos=0\n",
        "    for s in v:\n",
        "      score=int(afinn.score(s))\n",
        "      if score > 0:\n",
        "        pos+=1\n",
        "      elif score < 0:\n",
        "        pos-=1\n",
        "    niv_scores.append(pos)\n",
        "  for i in range(len(kjv['verse'])):\n",
        "    v=kjv['verse'][i].split('.')\n",
        "    pos=0\n",
        "    for s in v:\n",
        "      score=int(afinn.score(s))\n",
        "      if score > 0:\n",
        "        pos+=1\n",
        "      elif score < 0:\n",
        "        pos-=1\n",
        "    kjv_scores.append(pos)\n",
        "  for i in range(len(nrsv['verse'])):\n",
        "    v=nrsv['verse'][i].split('.')\n",
        "    pos=0\n",
        "    for s in v:\n",
        "      score=int(afinn.score(s))\n",
        "      if score > 0:\n",
        "        pos+=1\n",
        "      elif score < 0:\n",
        "        pos-=1\n",
        "    nrsv_scores.append(pos)\n",
        "  # return niv_scores,kjv_scores\n",
        "  f=plt.figure()\n",
        "  f.set_figwidth(20)\n",
        "  f.set_figheight(5)\n",
        "  n=len(niv_scores)\n",
        "  X = np.arange(1,n+1)\n",
        "  plt.figure()\n",
        "  plt.plot(X,niv_scores,'-',label='New International Version',color='lightcoral')\n",
        "  plt.plot(X,kjv_scores,'-',label='King James Version',color='turquoise')\n",
        "  plt.plot(X,nrsv_scores,'-',label='New Revised Standard Version',color='green')\n",
        "  plt.legend()\n",
        "  plt.xticks(X,rotation=90)\n",
        "  plt.xlabel('Verse')\n",
        "  plt.ylabel('Polarity')\n",
        "  plt.savefig(img+'.png')\n",
        "  plt.show()  \n"
      ],
      "metadata": {
        "id": "CkOROLcKCpAb"
      },
      "execution_count": 104,
      "outputs": []
    },
    {
      "cell_type": "code",
      "source": [
        "plot(niv5,kjv5,nrsv5,\"verse_polarity_ch5\")"
      ],
      "metadata": {
        "colab": {
          "base_uri": "https://localhost:8080/",
          "height": 299
        },
        "id": "eQJ4o89XD__8",
        "outputId": "81e1ee42-48aa-44f8-d5d1-5d020ee14173"
      },
      "execution_count": 105,
      "outputs": [
        {
          "output_type": "display_data",
          "data": {
            "text/plain": [
              "<Figure size 1440x360 with 0 Axes>"
            ]
          },
          "metadata": {}
        },
        {
          "output_type": "display_data",
          "data": {
            "text/plain": [
              "<Figure size 432x288 with 1 Axes>"
            ],
            "image/png": "[encoded data removed]"
          },
          "metadata": {
            "needs_background": "light"
          }
        }
      ]
    },
    {
      "cell_type": "code",
      "source": [
        "plot(niv6,kjv6,nrsv6,\"verse_polarity_ch6\")"
      ],
      "metadata": {
        "colab": {
          "base_uri": "https://localhost:8080/",
          "height": 299
        },
        "id": "3mjENzhx56km",
        "outputId": "e3f3b019-10bb-4c1e-f684-c5a53b6fa908"
      },
      "execution_count": 106,
      "outputs": [
        {
          "output_type": "display_data",
          "data": {
            "text/plain": [
              "<Figure size 1440x360 with 0 Axes>"
            ]
          },
          "metadata": {}
        },
        {
          "output_type": "display_data",
          "data": {
            "text/plain": [
              "<Figure size 432x288 with 1 Axes>"
            ],
            "image/png": "[encoded data removed]"
          },
          "metadata": {
            "needs_background": "light"
          }
        }
      ]
    },
    {
      "cell_type": "code",
      "source": [
        "plot(niv7,kjv7,nrsv7,\"verse_polarity_ch7\")"
      ],
      "metadata": {
        "colab": {
          "base_uri": "https://localhost:8080/",
          "height": 299
        },
        "id": "ivi2sCYxFTRG",
        "outputId": "f3957bed-df97-4c27-fecc-2af60662c019"
      },
      "execution_count": 107,
      "outputs": [
        {
          "output_type": "display_data",
          "data": {
            "text/plain": [
              "<Figure size 1440x360 with 0 Axes>"
            ]
          },
          "metadata": {}
        },
        {
          "output_type": "display_data",
          "data": {
            "text/plain": [
              "<Figure size 432x288 with 1 Axes>"
            ],
            "image/png": "[encoded data removed]"
          },
          "metadata": {
            "needs_background": "light"
          }
        }
      ]
    },
    {
      "cell_type": "code",
      "source": [],
      "metadata": {
        "id": "B5HJKaNDFVv2"
      },
      "execution_count": null,
      "outputs": []
    }
  ]
}